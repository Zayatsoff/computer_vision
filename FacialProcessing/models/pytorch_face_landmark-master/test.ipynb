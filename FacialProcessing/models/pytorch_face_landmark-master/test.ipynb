{
 "cells": [
  {
   "cell_type": "code",
   "execution_count": 19,
   "metadata": {},
   "outputs": [
    {
     "name": "stdout",
     "output_type": "stream",
     "text": [
      "Microsoft Windows [Version 10.0.19044.1766]\n",
      "(c) Microsoft Corporation. All rights reserved.\n",
      "\n",
      "c:\\Users\\timur\\miniconda3\\envs\\cnncourse\\FacialProcessing\\models>cd pytorch_face_landmark-master/FaceBoxes/utils\n",
      "\n",
      "c:\\Users\\timur\\miniconda3\\envs\\cnncourse\\FacialProcessing\\models\\pytorch_face_landmark-master\\FaceBoxes\\utils>python build.py build_ext --inplace\n",
      "running build_ext\n",
      "skipping 'nms\\cpu_nms.c' Cython extension (up-to-date)\n",
      "building 'nms.cpu_nms' extension\n",
      "\"C:\\Program Files (x86)\\Microsoft Visual Studio\\2022\\BuildTools\\VC\\Tools\\MSVC\\14.32.31326\\bin\\HostX86\\x64\\cl.exe\" /c /nologo /O2 /W3 /GL /DNDEBUG /MD -Ic:\\Users\\timur\\miniconda3\\envs\\cnncourse\\lib\\site-packages\\numpy\\core\\include -Ic:\\Users\\timur\\miniconda3\\envs\\cnncourse\\include -Ic:\\Users\\timur\\miniconda3\\envs\\cnncourse\\Include \"-IC:\\Program Files (x86)\\Microsoft Visual Studio\\2022\\BuildTools\\VC\\Tools\\MSVC\\14.32.31326\\include\" \"-IC:\\Program Files (x86)\\Windows Kits\\NETFXSDK\\4.8\\include\\um\" \"-IC:\\Program Files (x86)\\Windows Kits\\10\\include\\10.0.19041.0\\ucrt\" \"-IC:\\Program Files (x86)\\Windows Kits\\10\\\\include\\10.0.19041.0\\\\shared\" \"-IC:\\Program Files (x86)\\Windows Kits\\10\\\\include\\10.0.19041.0\\\\um\" \"-IC:\\Program Files (x86)\\Windows Kits\\10\\\\include\\10.0.19041.0\\\\winrt\" \"-IC:\\Program Files (x86)\\Windows Kits\\10\\\\include\\10.0.19041.0\\\\cppwinrt\" /Tcnms\\cpu_nms.c /Fobuild\\temp.win-amd64-3.10\\Release\\nms\\cpu_nms.obj gcc\n"
     ]
    },
    {
     "name": "stderr",
     "output_type": "stream",
     "text": [
      "cl : Command line warning D9024 : unrecognized source file type 'gcc', object file assumed\n",
      "cl : Command line warning D9027 : source file 'gcc' ignored\n"
     ]
    },
    {
     "name": "stdout",
     "output_type": "stream",
     "text": [
      "cpu_nms.c\n",
      "c:\\Users\\timur\\miniconda3\\envs\\cnncourse\\lib\\site-packages\\numpy\\core\\include\\numpy\\npy_1_7_deprecated_api.h(14) : Warning Msg: Using deprecated NumPy API, disable it with #define NPY_NO_DEPRECATED_API NPY_1_7_API_VERSION\n",
      "nms\\cpu_nms.c(2503): warning C4244: '=': conversion from 'npy_intp' to 'int', possible loss of data\n",
      "nms\\cpu_nms.c(2892): warning C4244: 'function': conversion from 'double' to '__pyx_t_5numpy_float32_t', possible loss of data\n",
      "nms\\cpu_nms.c(2901): warning C4244: 'function': conversion from 'double' to '__pyx_t_5numpy_float32_t', possible loss of data\n",
      "nms\\cpu_nms.c(3247): warning C4244: '=': conversion from 'npy_intp' to 'unsigned int', possible loss of data\n",
      "nms\\cpu_nms.c(3494): warning C4018: '<': signed/unsigned mismatch\n",
      "nms\\cpu_nms.c(4005): warning C4018: '<': signed/unsigned mismatch\n",
      "nms\\cpu_nms.c(4138): warning C4244: '=': conversion from 'double' to 'float', possible loss of data\n",
      "nms\\cpu_nms.c(4147): warning C4244: '=': conversion from 'double' to 'float', possible loss of data\n",
      "nms\\cpu_nms.c(4166): warning C4244: '=': conversion from 'double' to 'float', possible loss of data\n",
      "nms\\cpu_nms.c(4185): warning C4244: '=': conversion from 'double' to 'float', possible loss of data\n",
      "nms\\cpu_nms.c(4228): warning C4244: '=': conversion from 'double' to 'float', possible loss of data\n",
      "\"C:\\Program Files (x86)\\Microsoft Visual Studio\\2022\\BuildTools\\VC\\Tools\\MSVC\\14.32.31326\\bin\\HostX86\\x64\\link.exe\" /nologo /INCREMENTAL:NO /LTCG /DLL /MANIFEST:EMBED,ID=2 /MANIFESTUAC:NO /LIBPATH:c:\\Users\\timur\\miniconda3\\envs\\cnncourse\\libs /LIBPATH:c:\\Users\\timur\\miniconda3\\envs\\cnncourse /LIBPATH:c:\\Users\\timur\\miniconda3\\envs\\cnncourse\\PCbuild\\amd64 \"/LIBPATH:C:\\Program Files (x86)\\Microsoft Visual Studio\\2022\\BuildTools\\VC\\Tools\\MSVC\\14.32.31326\\lib\\x64\" \"/LIBPATH:C:\\Program Files (x86)\\Windows Kits\\NETFXSDK\\4.8\\lib\\um\\x64\" \"/LIBPATH:C:\\Program Files (x86)\\Windows Kits\\10\\lib\\10.0.19041.0\\ucrt\\x64\" \"/LIBPATH:C:\\Program Files (x86)\\Windows Kits\\10\\\\lib\\10.0.19041.0\\\\um\\x64\" /EXPORT:PyInit_cpu_nms build\\temp.win-amd64-3.10\\Release\\nms\\cpu_nms.obj /OUT:c:\\Users\\timur\\miniconda3\\envs\\cnncourse\\FacialProcessing\\models\\pytorch_face_landmark-master\\FaceBoxes\\utils\\nms\\cpu_nms.cp310-win_amd64.pyd /IMPLIB:build\\temp.win-amd64-3.10\\Release\\nms\\cpu_nms.cp310-win_amd64.lib\n",
      "   Creating library build\\temp.win-amd64-3.10\\Release\\nms\\cpu_nms.cp310-win_amd64.lib and object build\\temp.win-amd64-3.10\\Release\\nms\\cpu_nms.cp310-win_amd64.exp\n",
      "Generating code\n",
      "Finished generating code\n",
      "\n",
      "c:\\Users\\timur\\miniconda3\\envs\\cnncourse\\FacialProcessing\\models\\pytorch_face_landmark-master\\FaceBoxes\\utils>"
     ]
    }
   ],
   "source": [
    "%%cmd\n",
    "FaceBoxes/utils\n",
    "python build.py build_ext --inplace"
   ]
  },
  {
   "cell_type": "code",
   "execution_count": 1,
   "metadata": {},
   "outputs": [
    {
     "name": "stdout",
     "output_type": "stream",
     "text": [
      "Microsoft Windows [Version 10.0.19044.1766]\n",
      "(c) Microsoft Corporation. All rights reserved.\n",
      "\n",
      "c:\\Users\\timur\\miniconda3\\envs\\cnncourse\\FacialProcessing\\models\\pytorch_face_landmark-master>python test_batch_detections.py --backbone MobileFaceNet --detector Retinaface\n",
      "Use MobileFaceNet as backbone\n",
      "samples/12--Group\\12_Group_Group_12_Group_Group_12_24.jpg\n",
      "Loading pretrained model from Retinaface/weights/mobilenet0.25_Final.pth\n",
      "remove prefix 'module.'\n",
      "Missing keys:0\n",
      "Unused checkpoint keys:0\n",
      "Used keys:300\n",
      "net forward time: 0.2419\n",
      "Time: 0.196259s.\n"
     ]
    },
    {
     "name": "stderr",
     "output_type": "stream",
     "text": [
      "c:\\Users\\timur\\miniconda3\\envs\\cnncourse\\FacialProcessing\\models\\pytorch_face_landmark-master\\utils\\matlab_cp2tform.py:80: FutureWarning: `rcond` parameter will change to the default of machine precision times ``max(M, N)`` where M and N are the input matrix dimensions.\n",
      "To use the future default and silence this warning we advise to pass `rcond=None`, to keep using the old, explicitly pass `rcond=-1`.\n",
      "  r, _, _, _ = lstsq(X, U)\n"
     ]
    },
    {
     "name": "stdout",
     "output_type": "stream",
     "text": [
      "Time: 0.224920s.\n",
      "Time: 0.192485s.\n",
      "Time: 0.174532s.\n",
      "Time: 0.190490s.\n",
      "Time: 0.203455s.\n",
      "Time: 0.199787s.\n",
      "Time: 0.178866s.\n",
      "Time: 0.166842s.\n",
      "Time: 0.180847s.\n",
      "Time: 0.183890s.\n",
      "Time: 0.255317s.\n",
      "Time: 0.172539s.\n",
      "Time: 0.183019s.\n",
      "Time: 0.188800s.\n",
      "Time: 0.210945s.\n",
      "Time: 0.237872s.\n",
      "Time: 0.173584s.\n",
      "Time: 0.181514s.\n",
      "Time: 0.191016s.\n",
      "Time: 0.204958s.\n",
      "Time: 0.183019s.\n",
      "Time: 0.210942s.\n",
      "samples/12--Group\\12_Group_Group_12_Group_Group_12_459.jpg\n",
      "Loading pretrained model from Retinaface/weights/mobilenet0.25_Final.pth\n",
      "remove prefix 'module.'\n",
      "Missing keys:0\n",
      "Unused checkpoint keys:0\n",
      "Used keys:300\n",
      "net forward time: 0.1576\n",
      "Time: 0.163563s.\n",
      "Time: 0.251850s.\n",
      "Time: 0.188003s.\n",
      "Time: 0.215441s.\n",
      "Time: 0.162565s.\n",
      "Time: 0.195986s.\n",
      "Time: 0.263791s.\n",
      "Time: 0.175037s.\n",
      "Time: 0.305690s.\n",
      "Time: 0.216925s.\n",
      "Time: 0.188021s.\n",
      "Time: 0.300228s.\n",
      "Time: 0.237872s.\n",
      "Time: 0.293737s.\n",
      "Time: 0.174548s.\n",
      "Time: 0.202971s.\n",
      "Time: 0.214440s.\n",
      "Time: 0.178280s.\n",
      "Time: 0.210962s.\n",
      "Time: 0.203472s.\n",
      "Time: 0.186501s.\n",
      "Time: 0.232885s.\n",
      "Time: 0.172538s.\n",
      "Time: 0.222418s.\n",
      "Time: 0.230384s.\n",
      "Time: 0.270293s.\n",
      "Time: 0.251834s.\n",
      "samples/12--Group\\12_Group_Group_12_Group_Group_12_51.jpg\n",
      "Loading pretrained model from Retinaface/weights/mobilenet0.25_Final.pth\n",
      "remove prefix 'module.'\n",
      "Missing keys:0\n",
      "Unused checkpoint keys:0\n",
      "Used keys:300\n",
      "net forward time: 0.1825\n",
      "Time: 0.164571s.\n",
      "Time: 0.193989s.\n",
      "Time: 0.176529s.\n",
      "Time: 0.251833s.\n",
      "Time: 0.171048s.\n",
      "Time: 0.191010s.\n",
      "Time: 0.188518s.\n",
      "Time: 0.227391s.\n",
      "\n",
      "c:\\Users\\timur\\miniconda3\\envs\\cnncourse\\FacialProcessing\\models\\pytorch_face_landmark-master>"
     ]
    }
   ],
   "source": [
    "%%cmd\n",
    "python test_batch_detections.py --backbone MobileFaceNet --detector Retinaface"
   ]
  }
 ],
 "metadata": {
  "kernelspec": {
   "display_name": "Python 3.10.4",
   "language": "python",
   "name": "python3"
  },
  "language_info": {
   "codemirror_mode": {
    "name": "ipython",
    "version": 3
   },
   "file_extension": ".py",
   "mimetype": "text/x-python",
   "name": "python",
   "nbconvert_exporter": "python",
   "pygments_lexer": "ipython3",
   "version": "3.10.4"
  },
  "orig_nbformat": 4,
  "vscode": {
   "interpreter": {
    "hash": "e73e303481566d37fd07768ded3c8b1cff07f97f6c1b9e0a67d635ad8b406c2d"
   }
  }
 },
 "nbformat": 4,
 "nbformat_minor": 2
}
