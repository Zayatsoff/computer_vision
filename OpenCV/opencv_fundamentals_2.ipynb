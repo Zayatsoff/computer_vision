{
 "cells": [
  {
   "cell_type": "markdown",
   "metadata": {},
   "source": [
    "## OpenCV Fundamentals Part 2\n",
    "- Display Images in Multiple Modes\n",
    "- Capture videos\n",
    "- Playing Webcam Video\n",
    "- Playing Video from File\n"
   ]
  },
  {
   "cell_type": "code",
   "execution_count": null,
   "metadata": {},
   "outputs": [],
   "source": [
    "import cv2"
   ]
  },
  {
   "cell_type": "markdown",
   "metadata": {},
   "source": [
    "### Display Images in Multiple Modes"
   ]
  },
  {
   "cell_type": "code",
   "execution_count": null,
   "metadata": {},
   "outputs": [],
   "source": []
  }
 ],
 "metadata": {
  "kernelspec": {
   "display_name": "Python 3.8.12",
   "language": "python",
   "name": "python3"
  },
  "language_info": {
   "name": "python",
   "version": "3.8.12"
  },
  "orig_nbformat": 4,
  "vscode": {
   "interpreter": {
    "hash": "4d4ca538fc1b67ec88ee78322f404febe2691530399d5dd1ab56c53febdbc1ff"
   }
  }
 },
 "nbformat": 4,
 "nbformat_minor": 2
}
