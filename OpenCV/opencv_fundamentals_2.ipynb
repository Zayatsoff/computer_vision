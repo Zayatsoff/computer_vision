{
 "cells": [
  {
   "cell_type": "markdown",
   "metadata": {},
   "source": [
    "## OpenCV Fundamentals Part 2\n",
    "- Display Images in Multiple Modes\n",
    "- Playing Webcam Video\n",
    "- Capture videos\n",
    "- Playing Video from File\n"
   ]
  },
  {
   "cell_type": "code",
   "execution_count": null,
   "metadata": {},
   "outputs": [],
   "source": [
    "import cv2"
   ]
  },
  {
   "cell_type": "markdown",
   "metadata": {},
   "source": [
    "### Display Images in Multiple Modes"
   ]
  },
  {
   "cell_type": "code",
   "execution_count": null,
   "metadata": {},
   "outputs": [],
   "source": [
    "img_path = \"sample_image.jpg\"\n",
    "img = cv2.imread(img_path, -1) #-1 : Original image, 0: Grayscale, 1: RGB\n",
    "img_resize = cv2.resize(img, (800,800))\n",
    "cv2.imshow('Sample image', img_resize)\n",
    "cv2.waitKey(0)\n",
    "cv2.destroyAllWindows()"
   ]
  },
  {
   "cell_type": "markdown",
   "metadata": {},
   "source": [
    "### Playing Webcam Video"
   ]
  },
  {
   "cell_type": "code",
   "execution_count": null,
   "metadata": {},
   "outputs": [],
   "source": [
    "capture = cv2.VideoCapture(0)\n",
    "while(True): \n",
    "    ret_, frame = capture.read()\n",
    "    cv2.imshow(\"Camera\", frame)\n",
    "    if cv2.waitKey(1) & 0xFF == ord('q'): \n",
    "        break\n",
    "    capture.release()\n",
    "cv2.destroyAllWindows()\n"
   ]
  },
  {
   "cell_type": "markdown",
   "metadata": {},
   "source": [
    "### Capture videos"
   ]
  },
  {
   "cell_type": "code",
   "execution_count": null,
   "metadata": {},
   "outputs": [],
   "source": [
    "capture = cv2.VideoCapture(0)\n",
    "if(not capture.isOpen()):\n",
    "    print('Camera not found.')\n",
    "\n",
    "frame_width = int(capture.get(3))\n",
    "frame_height = int(capture.get(4))\n",
    "\n",
    "#video coded ... endoerts and decoders\n",
    "\n",
    "video_cod = cv2.VideoWriter_fourcc(*\"XVID\")\n",
    "video_output = cv2.VideoWriter('Captured_video.mp4', video_cod, 30, (frame_width, frame_height))\n",
    "\n",
    "while(True): \n",
    "    ret, frame = capture.read()\n",
    "    if ret:\n",
    "        video_output.write(frame)\n",
    "        cv2.imshow('frame', frame)\n",
    "        if cv2.waitKey(1) & 0xFF == ord('q'): \n",
    "            break\n",
    "    else:\n",
    "        break\n",
    "capture.release()\n",
    "video_output.release()\n",
    "cv2.destroyAllWindows()\n",
    "print(\"Video saved successfuly.\")\n",
    "\n"
   ]
  },
  {
   "cell_type": "markdown",
   "metadata": {},
   "source": [
    "### Playing Video from File"
   ]
  },
  {
   "cell_type": "code",
   "execution_count": null,
   "metadata": {},
   "outputs": [],
   "source": [
    "video = cv2.VideoCapture(\"Captured_video.mp4\")\n",
    "while(True): \n",
    "    ret, frame = video.read()\n",
    "    cv2.imshow('frame', frame)\n",
    "    if cv2.waitKey(1) & 0xFF == ord('q'): \n",
    "        break\n",
    "\n"
   ]
  }
 ],
 "metadata": {
  "kernelspec": {
   "display_name": "Python 3.8.13",
   "language": "python",
   "name": "python3"
  },
  "language_info": {
   "codemirror_mode": {
    "name": "ipython",
    "version": 3
   },
   "file_extension": ".py",
   "mimetype": "text/x-python",
   "name": "python",
   "nbconvert_exporter": "python",
   "pygments_lexer": "ipython3",
   "version": "3.8.13"
  },
  "orig_nbformat": 4,
  "vscode": {
   "interpreter": {
    "hash": "39a99c4e17d93146d5da986f32033b6810ebfa2b1d08e3e8c088452cb62ba6bc"
   }
  }
 },
 "nbformat": 4,
 "nbformat_minor": 2
}
