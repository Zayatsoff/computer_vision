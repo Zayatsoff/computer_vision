{
 "cells": [
  {
   "cell_type": "markdown",
   "metadata": {},
   "source": [
    "## OpenCV Fundamentals Part 1\n",
    "- Display Image\n",
    "- Save Image\n",
    "- Accessing Image Properties\n",
    "- Changing Color-space\n",
    "- Resizing Image\n",
    "- Display Text\n",
    "- Display Line\n",
    "- Display Circle\n",
    "- Display Rectangle\n",
    "- Display Ellipse\n"
   ]
  },
  {
   "cell_type": "code",
   "execution_count": 45,
   "metadata": {},
   "outputs": [],
   "source": [
    "import cv2"
   ]
  },
  {
   "cell_type": "markdown",
   "metadata": {},
   "source": [
    "### Display Image"
   ]
  },
  {
   "cell_type": "code",
   "execution_count": 46,
   "metadata": {},
   "outputs": [],
   "source": [
    "img_path = \"sample_image.jpg\""
   ]
  },
  {
   "cell_type": "code",
   "execution_count": 47,
   "metadata": {},
   "outputs": [],
   "source": [
    "img = cv2.imread(img_path)\n",
    "cv2.imshow('Sample image', img)\n",
    "cv2.waitKey(0)\n",
    "cv2.destroyAllWindows()"
   ]
  },
  {
   "cell_type": "markdown",
   "metadata": {},
   "source": [
    "### Save Image"
   ]
  },
  {
   "cell_type": "code",
   "execution_count": 48,
   "metadata": {},
   "outputs": [
    {
     "name": "stdout",
     "output_type": "stream",
     "text": [
      "Image saved.\n"
     ]
    }
   ],
   "source": [
    "directory = \"./\"\n",
    "filename = \"saved_image.png\"\n",
    "cv2.imwrite(directory + filename, img)\n",
    "print('Image saved.')"
   ]
  },
  {
   "cell_type": "markdown",
   "metadata": {},
   "source": [
    "### Accessing Image Properties"
   ]
  },
  {
   "cell_type": "code",
   "execution_count": 49,
   "metadata": {},
   "outputs": [
    {
     "name": "stdout",
     "output_type": "stream",
     "text": [
      "(5386, 3591, 3)\n"
     ]
    }
   ],
   "source": [
    "print(img.shape) # (h,w,chanels) - rgb"
   ]
  },
  {
   "cell_type": "markdown",
   "metadata": {},
   "source": [
    "### Changing Color-space"
   ]
  },
  {
   "cell_type": "code",
   "execution_count": 50,
   "metadata": {},
   "outputs": [
    {
     "data": {
      "text/plain": [
       "array([[[180, 180, 180],\n",
       "        [174, 174, 174],\n",
       "        [171, 171, 171],\n",
       "        ...,\n",
       "        [176, 176, 176],\n",
       "        [173, 173, 173],\n",
       "        [166, 166, 166]],\n",
       "\n",
       "       [[171, 171, 171],\n",
       "        [169, 169, 169],\n",
       "        [169, 169, 169],\n",
       "        ...,\n",
       "        [171, 171, 171],\n",
       "        [169, 169, 169],\n",
       "        [166, 166, 166]],\n",
       "\n",
       "       [[168, 168, 168],\n",
       "        [169, 169, 169],\n",
       "        [170, 170, 170],\n",
       "        ...,\n",
       "        [172, 172, 172],\n",
       "        [171, 171, 171],\n",
       "        [171, 171, 171]],\n",
       "\n",
       "       ...,\n",
       "\n",
       "       [[132, 132, 132],\n",
       "        [126, 126, 126],\n",
       "        [124, 124, 124],\n",
       "        ...,\n",
       "        [ 83,  83,  83],\n",
       "        [ 82,  82,  82],\n",
       "        [ 86,  86,  86]],\n",
       "\n",
       "       [[129, 129, 129],\n",
       "        [125, 125, 125],\n",
       "        [129, 129, 129],\n",
       "        ...,\n",
       "        [ 90,  90,  90],\n",
       "        [ 86,  86,  86],\n",
       "        [ 88,  88,  88]],\n",
       "\n",
       "       [[126, 126, 126],\n",
       "        [125, 125, 125],\n",
       "        [131, 131, 131],\n",
       "        ...,\n",
       "        [ 93,  93,  93],\n",
       "        [ 89,  89,  89],\n",
       "        [ 91,  91,  91]]], dtype=uint8)"
      ]
     },
     "execution_count": 50,
     "metadata": {},
     "output_type": "execute_result"
    }
   ],
   "source": [
    "# RGB -> Grasycale\n",
    "img_gray = cv2.cvtColor(img, cv2.COLOR_BGR2GRAY)\n",
    "cv2.imshow('Sample gray image', img_gray)\n",
    "cv2.waitKey(0)\n",
    "cv2.destroyAllWindows()\n",
    "# Grasycale -> RGB\n",
    "cv2.cvtColor(img_gray, cv2.COLOR_GRAY2RGB)"
   ]
  },
  {
   "cell_type": "markdown",
   "metadata": {},
   "source": [
    "### Resizing Image"
   ]
  },
  {
   "cell_type": "code",
   "execution_count": 51,
   "metadata": {},
   "outputs": [],
   "source": [
    "img_resize = cv2.resize(img, (800,800))\n",
    "cv2.imshow('Sample resize image', img_resize)\n",
    "cv2.waitKey(0)\n",
    "cv2.destroyAllWindows()"
   ]
  },
  {
   "cell_type": "markdown",
   "metadata": {},
   "source": [
    "### Display Text"
   ]
  },
  {
   "cell_type": "code",
   "execution_count": 52,
   "metadata": {},
   "outputs": [],
   "source": [
    "img_text = cv2.putText(img_resize, 'OpenCV', (200,100),cv2.FONT_HERSHEY_SIMPLEX,4,(255,53,53),2) # cv2.putText(image, text, org, font, fontScale, color[, thickness[, lineType[, bottomLeftOrigin]]])\n",
    "cv2.imshow('Sample resize image', img_text)\n",
    "cv2.waitKey(0)\n",
    "cv2.destroyAllWindows()"
   ]
  },
  {
   "cell_type": "markdown",
   "metadata": {},
   "source": [
    "### Display Line"
   ]
  },
  {
   "cell_type": "code",
   "execution_count": 53,
   "metadata": {},
   "outputs": [],
   "source": [
    "img_line = cv2.line(img_resize,(0,0),(200,200),(234,234,12),4) # cv2.line(image, starting_pos, end_pos, colour, thickness)\n",
    "cv2.imshow('Sample resize image', img_line)\n",
    "cv2.waitKey(0)\n",
    "cv2.destroyAllWindows()"
   ]
  },
  {
   "cell_type": "markdown",
   "metadata": {},
   "source": [
    "### Display Circle"
   ]
  },
  {
   "cell_type": "code",
   "execution_count": 54,
   "metadata": {},
   "outputs": [],
   "source": [
    "img_circle = cv2.circle(img_resize,(230,230),40,(234,234,12),4) # cv2.circle(image, pos, radius, colour, thickness)\n",
    "cv2.imshow('Sample resize image', img_circle)\n",
    "cv2.waitKey(0)\n",
    "cv2.destroyAllWindows()"
   ]
  },
  {
   "cell_type": "markdown",
   "metadata": {},
   "source": [
    "### Display Rectangle"
   ]
  },
  {
   "cell_type": "code",
   "execution_count": 55,
   "metadata": {},
   "outputs": [],
   "source": [
    "img_rect = cv2.rectangle(img_resize,(0,0),(200,200),(234,234,12),4) # cv2.rectangle(image, starting_pos, end_pos, colour, thickness)\n",
    "cv2.imshow('Sample resize image', img_rect)\n",
    "cv2.waitKey(0)\n",
    "cv2.destroyAllWindows()"
   ]
  },
  {
   "cell_type": "markdown",
   "metadata": {},
   "source": [
    "### Display Ellipse"
   ]
  },
  {
   "cell_type": "code",
   "execution_count": 57,
   "metadata": {},
   "outputs": [],
   "source": [
    "img_ellipse = cv2.ellipse(img_resize,(120,120),(100,50),0,0,360,(234,234,12),4) # cv2.line(img, center, axes, angle, startAngle, endAngle, color[, thickness[, lineType[, shift]]])\n",
    "cv2.imshow('Sample resize image', img_ellipse)\n",
    "cv2.waitKey(0)\n",
    "cv2.destroyAllWindows()"
   ]
  }
 ],
 "metadata": {
  "kernelspec": {
   "display_name": "Python 3.8.13",
   "language": "python",
   "name": "python3"
  },
  "language_info": {
   "codemirror_mode": {
    "name": "ipython",
    "version": 3
   },
   "file_extension": ".py",
   "mimetype": "text/x-python",
   "name": "python",
   "nbconvert_exporter": "python",
   "pygments_lexer": "ipython3",
   "version": "3.8.13"
  },
  "orig_nbformat": 4,
  "vscode": {
   "interpreter": {
    "hash": "39a99c4e17d93146d5da986f32033b6810ebfa2b1d08e3e8c088452cb62ba6bc"
   }
  }
 },
 "nbformat": 4,
 "nbformat_minor": 2
}
